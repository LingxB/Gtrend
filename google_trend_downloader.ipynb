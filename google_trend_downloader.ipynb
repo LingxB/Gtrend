{
 "cells": [
  {
   "cell_type": "code",
   "execution_count": 18,
   "metadata": {
    "collapsed": true
   },
   "outputs": [],
   "source": [
    "from pytrends.request import TrendReq\n",
    "import pandas as pd\n",
    "from pandas import ExcelWriter\n",
    "import time\n",
    "from random import randint\n",
    "import pytrends"
   ]
  },
  {
   "cell_type": "code",
   "execution_count": 2,
   "metadata": {
    "collapsed": true
   },
   "outputs": [],
   "source": [
    "username = 'ebao@toolsgroup.com'\n",
    "password = 'blx112358'\n",
    "pytrend = TrendReq(username,password)\n",
    "\n",
    "keywords = {\n",
    "            'ray-ban':['ray ban','ray-ban','ray ban sunglasses','ray ban wayfarer'],\n",
    "            'ray-ban_vista':['ray ban vista','ray ban glasses','ray ban eyeglasses','ray ban frame','ray ban glasses frame'],\n",
    "            'oakley':['oakley','oakley sunglasses','oakley goggles'],\n",
    "            'oakley_vista':['oakley vista','oakley glasses','oakley eyeglasses','oakley frame','oakley glasses frame']\n",
    "           }\n",
    "\n",
    "geocodes = {\n",
    "            'TURKEY':'Turkey',\n",
    "            'INDIA':'India',\n",
    "            'BRASIL':'Brazil',\n",
    "            'JAPAN':'Japan',\n",
    "            'KOREA':'Korea, Republic of',\n",
    "            'ASTRL':'Australia',\n",
    "            'MEXICO':'Mexico',\n",
    "            'PHIL':'Philippines',\n",
    "            'NORAME':['United States','Canada'],\n",
    "            'CHI_HK':'Hong Kong'\n",
    "           }\n",
    "\n",
    "isofile = 'data/ISO 3166-1-alpha-2.csv'\n"
   ]
  },
  {
   "cell_type": "code",
   "execution_count": 3,
   "metadata": {
    "collapsed": false
   },
   "outputs": [],
   "source": [
    "def get_geo(geodict,isofile):\n",
    "    \"\"\"Load ISO country code file, given geocodes dict return a list of country codes\"\"\"\n",
    "    iso = pd.read_csv(isofile)\n",
    "    geolist = []\n",
    "    \n",
    "    for code,isoname in geodict.items():\n",
    "    \n",
    "        if type(isoname) == list:\n",
    "            geolist.append([(iso.loc[iso['Name'] == c, 'Code'].values[0],code) for c in isoname])\n",
    "        else:\n",
    "            geolist.append((iso.loc[iso['Name'] == isoname, 'Code'].values[0],code))\n",
    "            \n",
    "    return geolist"
   ]
  },
  {
   "cell_type": "code",
   "execution_count": 4,
   "metadata": {
    "collapsed": false,
    "scrolled": true
   },
   "outputs": [],
   "source": [
    "def get_trend(brand,date=None,geo=None,hl=None,p1=5,p2=10):\n",
    "    \"\"\"\n",
    "    Given Brand name return monthly google trend data (time > 36m), default time 47m. Loop predifeined keywords automaticlly.\n",
    "    \"\"\"\n",
    "    global keywords\n",
    "    \n",
    "    if type(geo) != list:\n",
    "        for i,w in enumerate(keywords[brand]):\n",
    "            payload = {'q':w,\n",
    "                       'date':'1/2013 47m', # 1/2013,14,15,10/16\n",
    "                       'geo':None,\n",
    "                       'hl':None\n",
    "                      }\n",
    "            if date != None:\n",
    "                payload['date'] = date\n",
    "            if geo != None:\n",
    "                payload['geo'] = geo\n",
    "            if hl != None:\n",
    "                payload['hl'] = hl\n",
    "            print(payload)\n",
    "            try:\n",
    "                if i == 0:\n",
    "                    trend = pytrend.trend(payload, return_type='dataframe')\n",
    "                    time.sleep(randint(p1,p2))\n",
    "                if i > 0:\n",
    "                    try:\n",
    "                        trend[w+'_'+geo] = pytrend.trend(payload, return_type='dataframe')\n",
    "                        time.sleep(randint(p1,p2))\n",
    "                    except UnboundLocalError:\n",
    "                        trend = pytrend.trend(payload, return_type='dataframe')\n",
    "                        time.sleep(randint(p1,p2))\n",
    "            except IndexError as e:\n",
    "                print('%s on keyword: %s, resuming...' %(e,w))\n",
    "                time.sleep(randint(p1,p2))\n",
    "                pass\n",
    "        try:\n",
    "            trend['mean'] = trend.mean(axis=1)\n",
    "        except UnboundLocalError:\n",
    "            return None\n",
    "        return trend\n",
    "    else:\n",
    "        for idx,g in enumerate(geo):\n",
    "            if idx == 0:\n",
    "                for i,w in enumerate(keywords[brand]):\n",
    "                    payload = {'q':w,\n",
    "                               'date':'1/2013 47m', # 1/2013,14,15,10/16\n",
    "                               'geo':g,\n",
    "                               'hl':None\n",
    "                              }\n",
    "                    if date != None:\n",
    "                        payload['date'] = date\n",
    "                    if hl != None:\n",
    "                        payload['hl'] = hl\n",
    "                    print(payload)\n",
    "                    try:\n",
    "                        if i == 0:\n",
    "                            trend = pytrend.trend(payload, return_type='dataframe')\n",
    "                            time.sleep(randint(p1,p2))\n",
    "                        if i > 0:\n",
    "                            try:\n",
    "                                trend[w+'_'+geo[idx]] = pytrend.trend(payload, return_type='dataframe')\n",
    "                                time.sleep(randint(p1,p2))\n",
    "                            except UnboundLocalError:\n",
    "                                trend = pytrend.trend(payload, return_type='dataframe')\n",
    "                                time.sleep(randint(p1,p2))\n",
    "                    except IndexError as e:\n",
    "                        print('%s on keyword: %s, resuming...' %(e,w))\n",
    "                        time.sleep(randint(p1,p2))\n",
    "                        pass\n",
    "            if idx > 0:\n",
    "                for i,w in enumerate(keywords[brand]):\n",
    "                    payload = {'q':w,\n",
    "                               'date':'1/2013 47m', # 1/2013,14,15,10/16\n",
    "                               'geo':g,\n",
    "                               'hl':None\n",
    "                              }\n",
    "                    if date != None:\n",
    "                        payload['date'] = date\n",
    "                    if hl != None:\n",
    "                        payload['hl'] = hl\n",
    "                    print(payload)\n",
    "                    try:\n",
    "                        trend[w+'_'+geo[idx]] = pytrend.trend(payload, return_type='dataframe')\n",
    "                        time.sleep(randint(p1,p2))\n",
    "                    except IndexError as e:\n",
    "                            print('%s on keyword: %s, resuming...' %(e,w))\n",
    "                            time.sleep(randint(p1,p2))\n",
    "                            pass\n",
    "        try:\n",
    "            trend['mean'] = trend.mean(axis=1)\n",
    "        except UnboundLocalError:\n",
    "            return None\n",
    "        return trend"
   ]
  },
  {
   "cell_type": "code",
   "execution_count": 25,
   "metadata": {
    "collapsed": true
   },
   "outputs": [],
   "source": [
    "def save_xls(list_dfs, xls_path):\n",
    "    writer = ExcelWriter(xls_path)\n",
    "    for (df,luxcode) in list_dfs:\n",
    "        try:\n",
    "            df.to_excel(writer,'%s' %(luxcode))\n",
    "        except AttributeError:\n",
    "            pass\n",
    "            \n",
    "    writer.save()"
   ]
  },
  {
   "cell_type": "code",
   "execution_count": 5,
   "metadata": {
    "collapsed": false
   },
   "outputs": [],
   "source": [
    "def get_numbers(keywordsdict,geodict):\n",
    "    \"\"\"\n",
    "    Calculate howlong to pause between each query, Google Rate Limit around 10/min\n",
    "    \"\"\"\n",
    "    n_k = 0\n",
    "    n_g = 0\n",
    "    for k,v in keywordsdict.items():\n",
    "        n_k += len(v)\n",
    "    for k,v in geodict.items():\n",
    "        if type(v) == list:\n",
    "            n_g += len(v)\n",
    "        else:\n",
    "            n_g += 1\n",
    "    time = n_k*n_g/10\n",
    "    \n",
    "    print('No. of keywords: %i\\tNo. of countries: %i\\nTotal query: %i\\tTime needed: %4.1fm' %(n_k,n_g,n_k*n_g,time))"
   ]
  },
  {
   "cell_type": "code",
   "execution_count": 36,
   "metadata": {
    "collapsed": true
   },
   "outputs": [],
   "source": [
    "dflist = []\n",
    "brand = 'oakley_vista'"
   ]
  },
  {
   "cell_type": "code",
   "execution_count": 37,
   "metadata": {
    "collapsed": true
   },
   "outputs": [],
   "source": [
    "def geotrends(brand,geolist,p1,p2):\n",
    "    \n",
    "    global dflist\n",
    "    \n",
    "    for code in geolist:\n",
    "        if type(code) != list:\n",
    "            isocode,luxcode = code\n",
    "            print(isocode,luxcode)\n",
    "            trend = get_trend(brand,geo=isocode)\n",
    "            dflist.append((trend,luxcode))\n",
    "            time.sleep(randint(p1,p2))\n",
    "        else:\n",
    "            isocode = [x for (x,y) in code]\n",
    "            luxcode = list(set([y for (x,y) in code]))[0]\n",
    "            print(' '.join(isocode) + ' ' + luxcode)\n",
    "            trend = get_trend(brand,geo=isocode)\n",
    "            dflist.append((trend,luxcode))\n",
    "            time.sleep(randint(p1,p2))"
   ]
  },
  {
   "cell_type": "code",
   "execution_count": 38,
   "metadata": {
    "collapsed": true
   },
   "outputs": [
    {
     "name": "stdout",
     "output_type": "stream",
     "text": [
      "IN INDIA\n",
      "{'q': 'oakley vista', 'date': '1/2013 47m', 'hl': None, 'geo': 'IN'}\n",
      "list index out of range on keyword: oakley vista, resuming...\n",
      "{'q': 'oakley glasses', 'date': '1/2013 47m', 'hl': None, 'geo': 'IN'}\n",
      "{'q': 'oakley eyeglasses', 'date': '1/2013 47m', 'hl': None, 'geo': 'IN'}\n",
      "list index out of range on keyword: oakley eyeglasses, resuming...\n",
      "{'q': 'oakley frame', 'date': '1/2013 47m', 'hl': None, 'geo': 'IN'}\n",
      "list index out of range on keyword: oakley frame, resuming...\n",
      "{'q': 'oakley glasses frame', 'date': '1/2013 47m', 'hl': None, 'geo': 'IN'}\n",
      "list index out of range on keyword: oakley glasses frame, resuming...\n",
      "PH PHIL\n",
      "{'q': 'oakley vista', 'date': '1/2013 47m', 'hl': None, 'geo': 'PH'}\n",
      "list index out of range on keyword: oakley vista, resuming...\n",
      "{'q': 'oakley glasses', 'date': '1/2013 47m', 'hl': None, 'geo': 'PH'}\n",
      "{'q': 'oakley eyeglasses', 'date': '1/2013 47m', 'hl': None, 'geo': 'PH'}\n",
      "{'q': 'oakley frame', 'date': '1/2013 47m', 'hl': None, 'geo': 'PH'}\n",
      "list index out of range on keyword: oakley frame, resuming...\n",
      "{'q': 'oakley glasses frame', 'date': '1/2013 47m', 'hl': None, 'geo': 'PH'}\n",
      "list index out of range on keyword: oakley glasses frame, resuming...\n",
      "MX MEXICO\n",
      "{'q': 'oakley vista', 'date': '1/2013 47m', 'hl': None, 'geo': 'MX'}\n",
      "list index out of range on keyword: oakley vista, resuming...\n",
      "{'q': 'oakley glasses', 'date': '1/2013 47m', 'hl': None, 'geo': 'MX'}\n",
      "{'q': 'oakley eyeglasses', 'date': '1/2013 47m', 'hl': None, 'geo': 'MX'}\n",
      "list index out of range on keyword: oakley eyeglasses, resuming...\n",
      "{'q': 'oakley frame', 'date': '1/2013 47m', 'hl': None, 'geo': 'MX'}\n",
      "list index out of range on keyword: oakley frame, resuming...\n",
      "{'q': 'oakley glasses frame', 'date': '1/2013 47m', 'hl': None, 'geo': 'MX'}\n",
      "list index out of range on keyword: oakley glasses frame, resuming...\n",
      "HK CHI_HK\n",
      "{'q': 'oakley vista', 'date': '1/2013 47m', 'hl': None, 'geo': 'HK'}\n",
      "list index out of range on keyword: oakley vista, resuming...\n",
      "{'q': 'oakley glasses', 'date': '1/2013 47m', 'hl': None, 'geo': 'HK'}\n",
      "list index out of range on keyword: oakley glasses, resuming...\n",
      "{'q': 'oakley eyeglasses', 'date': '1/2013 47m', 'hl': None, 'geo': 'HK'}\n",
      "list index out of range on keyword: oakley eyeglasses, resuming...\n",
      "{'q': 'oakley frame', 'date': '1/2013 47m', 'hl': None, 'geo': 'HK'}\n",
      "list index out of range on keyword: oakley frame, resuming...\n",
      "{'q': 'oakley glasses frame', 'date': '1/2013 47m', 'hl': None, 'geo': 'HK'}\n",
      "list index out of range on keyword: oakley glasses frame, resuming...\n",
      "KR KOREA\n",
      "{'q': 'oakley vista', 'date': '1/2013 47m', 'hl': None, 'geo': 'KR'}\n",
      "list index out of range on keyword: oakley vista, resuming...\n",
      "{'q': 'oakley glasses', 'date': '1/2013 47m', 'hl': None, 'geo': 'KR'}\n",
      "list index out of range on keyword: oakley glasses, resuming...\n",
      "{'q': 'oakley eyeglasses', 'date': '1/2013 47m', 'hl': None, 'geo': 'KR'}\n",
      "list index out of range on keyword: oakley eyeglasses, resuming...\n",
      "{'q': 'oakley frame', 'date': '1/2013 47m', 'hl': None, 'geo': 'KR'}\n",
      "list index out of range on keyword: oakley frame, resuming...\n",
      "{'q': 'oakley glasses frame', 'date': '1/2013 47m', 'hl': None, 'geo': 'KR'}\n",
      "list index out of range on keyword: oakley glasses frame, resuming...\n",
      "TR TURKEY\n",
      "{'q': 'oakley vista', 'date': '1/2013 47m', 'hl': None, 'geo': 'TR'}\n",
      "list index out of range on keyword: oakley vista, resuming...\n",
      "{'q': 'oakley glasses', 'date': '1/2013 47m', 'hl': None, 'geo': 'TR'}\n",
      "list index out of range on keyword: oakley glasses, resuming...\n",
      "{'q': 'oakley eyeglasses', 'date': '1/2013 47m', 'hl': None, 'geo': 'TR'}\n",
      "list index out of range on keyword: oakley eyeglasses, resuming...\n",
      "{'q': 'oakley frame', 'date': '1/2013 47m', 'hl': None, 'geo': 'TR'}\n",
      "list index out of range on keyword: oakley frame, resuming...\n",
      "{'q': 'oakley glasses frame', 'date': '1/2013 47m', 'hl': None, 'geo': 'TR'}\n",
      "list index out of range on keyword: oakley glasses frame, resuming...\n",
      "BR BRASIL\n",
      "{'q': 'oakley vista', 'date': '1/2013 47m', 'hl': None, 'geo': 'BR'}\n",
      "list index out of range on keyword: oakley vista, resuming...\n",
      "{'q': 'oakley glasses', 'date': '1/2013 47m', 'hl': None, 'geo': 'BR'}\n",
      "list index out of range on keyword: oakley glasses, resuming...\n",
      "{'q': 'oakley eyeglasses', 'date': '1/2013 47m', 'hl': None, 'geo': 'BR'}\n",
      "list index out of range on keyword: oakley eyeglasses, resuming...\n",
      "{'q': 'oakley frame', 'date': '1/2013 47m', 'hl': None, 'geo': 'BR'}\n",
      "list index out of range on keyword: oakley frame, resuming...\n",
      "{'q': 'oakley glasses frame', 'date': '1/2013 47m', 'hl': None, 'geo': 'BR'}\n",
      "list index out of range on keyword: oakley glasses frame, resuming...\n",
      "US CA NORAME\n",
      "{'q': 'oakley vista', 'date': '1/2013 47m', 'hl': None, 'geo': 'US'}\n",
      "list index out of range on keyword: oakley vista, resuming...\n",
      "{'q': 'oakley glasses', 'date': '1/2013 47m', 'hl': None, 'geo': 'US'}\n",
      "{'q': 'oakley eyeglasses', 'date': '1/2013 47m', 'hl': None, 'geo': 'US'}\n",
      "{'q': 'oakley frame', 'date': '1/2013 47m', 'hl': None, 'geo': 'US'}\n",
      "{'q': 'oakley glasses frame', 'date': '1/2013 47m', 'hl': None, 'geo': 'US'}\n",
      "list index out of range on keyword: oakley glasses frame, resuming...\n",
      "{'q': 'oakley vista', 'date': '1/2013 47m', 'hl': None, 'geo': 'CA'}\n",
      "list index out of range on keyword: oakley vista, resuming...\n",
      "{'q': 'oakley glasses', 'date': '1/2013 47m', 'hl': None, 'geo': 'CA'}\n",
      "{'q': 'oakley eyeglasses', 'date': '1/2013 47m', 'hl': None, 'geo': 'CA'}\n",
      "{'q': 'oakley frame', 'date': '1/2013 47m', 'hl': None, 'geo': 'CA'}\n",
      "{'q': 'oakley glasses frame', 'date': '1/2013 47m', 'hl': None, 'geo': 'CA'}\n",
      "list index out of range on keyword: oakley glasses frame, resuming...\n",
      "JP JAPAN\n",
      "{'q': 'oakley vista', 'date': '1/2013 47m', 'hl': None, 'geo': 'JP'}\n",
      "list index out of range on keyword: oakley vista, resuming...\n",
      "{'q': 'oakley glasses', 'date': '1/2013 47m', 'hl': None, 'geo': 'JP'}\n",
      "list index out of range on keyword: oakley glasses, resuming...\n",
      "{'q': 'oakley eyeglasses', 'date': '1/2013 47m', 'hl': None, 'geo': 'JP'}\n",
      "list index out of range on keyword: oakley eyeglasses, resuming...\n",
      "{'q': 'oakley frame', 'date': '1/2013 47m', 'hl': None, 'geo': 'JP'}\n",
      "list index out of range on keyword: oakley frame, resuming...\n",
      "{'q': 'oakley glasses frame', 'date': '1/2013 47m', 'hl': None, 'geo': 'JP'}\n",
      "list index out of range on keyword: oakley glasses frame, resuming...\n",
      "AU ASTRL\n",
      "{'q': 'oakley vista', 'date': '1/2013 47m', 'hl': None, 'geo': 'AU'}\n",
      "list index out of range on keyword: oakley vista, resuming...\n",
      "{'q': 'oakley glasses', 'date': '1/2013 47m', 'hl': None, 'geo': 'AU'}\n",
      "{'q': 'oakley eyeglasses', 'date': '1/2013 47m', 'hl': None, 'geo': 'AU'}\n",
      "list index out of range on keyword: oakley eyeglasses, resuming...\n",
      "{'q': 'oakley frame', 'date': '1/2013 47m', 'hl': None, 'geo': 'AU'}\n",
      "list index out of range on keyword: oakley frame, resuming...\n",
      "{'q': 'oakley glasses frame', 'date': '1/2013 47m', 'hl': None, 'geo': 'AU'}\n",
      "list index out of range on keyword: oakley glasses frame, resuming...\n"
     ]
    }
   ],
   "source": [
    "while True:\n",
    "    try:\n",
    "        geotrends(brand,geos[len(dflist):],5,10)\n",
    "        break\n",
    "    except:\n",
    "        print('ERROR PAUSING 5m')\n",
    "        time.sleep(60*5)\n",
    "        \n",
    "save_xls(dflist,'data/Regional_Trend_Oakley_vista.xlsx')"
   ]
  },
  {
   "cell_type": "code",
   "execution_count": null,
   "metadata": {
    "collapsed": true
   },
   "outputs": [],
   "source": []
  },
  {
   "cell_type": "code",
   "execution_count": null,
   "metadata": {
    "collapsed": true
   },
   "outputs": [],
   "source": []
  },
  {
   "cell_type": "code",
   "execution_count": null,
   "metadata": {
    "collapsed": true
   },
   "outputs": [],
   "source": []
  },
  {
   "cell_type": "code",
   "execution_count": 6,
   "metadata": {
    "collapsed": false
   },
   "outputs": [
    {
     "name": "stdout",
     "output_type": "stream",
     "text": [
      "No. of keywords: 17\tNo. of countries: 11\n",
      "Total query: 187\tTime needed: 18.7m\n"
     ]
    }
   ],
   "source": [
    "get_numbers(keywords,geocodes)"
   ]
  },
  {
   "cell_type": "code",
   "execution_count": 7,
   "metadata": {
    "collapsed": false,
    "scrolled": true
   },
   "outputs": [
    {
     "data": {
      "text/plain": [
       "[('IN', 'INDIA'),\n",
       " ('PH', 'PHIL'),\n",
       " ('MX', 'MEXICO'),\n",
       " ('HK', 'CHI_HK'),\n",
       " ('KR', 'KOREA'),\n",
       " ('TR', 'TURKEY'),\n",
       " ('BR', 'BRASIL'),\n",
       " [('US', 'NORAME'), ('CA', 'NORAME')],\n",
       " ('JP', 'JAPAN'),\n",
       " ('AU', 'ASTRL')]"
      ]
     },
     "execution_count": 7,
     "metadata": {},
     "output_type": "execute_result"
    }
   ],
   "source": [
    "geos = get_geo(geocodes,isofile)\n",
    "geos"
   ]
  },
  {
   "cell_type": "code",
   "execution_count": 32,
   "metadata": {
    "collapsed": false
   },
   "outputs": [
    {
     "data": {
      "text/plain": [
       "{'oakley': ['oakley', 'oakley sunglasses', 'oakley goggles'],\n",
       " 'oakley_vista': ['oakley vista',\n",
       "  'oakley glasses',\n",
       "  'oakley eyeglasses',\n",
       "  'oakley frame',\n",
       "  'oakley glasses frame'],\n",
       " 'ray-ban': ['ray ban', 'ray-ban', 'ray ban sunglasses', 'ray ban wayfarer'],\n",
       " 'ray-ban_vista': ['ray ban vista',\n",
       "  'ray ban glasses',\n",
       "  'ray ban eyeglasses',\n",
       "  'ray ban frame',\n",
       "  'ray ban glasses frame']}"
      ]
     },
     "execution_count": 32,
     "metadata": {},
     "output_type": "execute_result"
    }
   ],
   "source": [
    "keywords"
   ]
  },
  {
   "cell_type": "code",
   "execution_count": 39,
   "metadata": {
    "collapsed": false
   },
   "outputs": [
    {
     "name": "stdout",
     "output_type": "stream",
     "text": [
      "CHI_HK\n",
      "KOREA\n",
      "TURKEY\n",
      "BRASIL\n",
      "JAPAN\n"
     ]
    }
   ],
   "source": [
    "for x,y in dflist:\n",
    "    if x is None:\n",
    "        print(y)"
   ]
  },
  {
   "cell_type": "code",
   "execution_count": null,
   "metadata": {
    "collapsed": true
   },
   "outputs": [],
   "source": []
  },
  {
   "cell_type": "code",
   "execution_count": null,
   "metadata": {
    "collapsed": true
   },
   "outputs": [],
   "source": []
  },
  {
   "cell_type": "code",
   "execution_count": null,
   "metadata": {
    "collapsed": true
   },
   "outputs": [],
   "source": []
  },
  {
   "cell_type": "code",
   "execution_count": null,
   "metadata": {
    "collapsed": true
   },
   "outputs": [],
   "source": []
  },
  {
   "cell_type": "code",
   "execution_count": null,
   "metadata": {
    "collapsed": true
   },
   "outputs": [],
   "source": []
  },
  {
   "cell_type": "code",
   "execution_count": null,
   "metadata": {
    "collapsed": true
   },
   "outputs": [],
   "source": []
  },
  {
   "cell_type": "code",
   "execution_count": null,
   "metadata": {
    "collapsed": true
   },
   "outputs": [],
   "source": []
  },
  {
   "cell_type": "code",
   "execution_count": 64,
   "metadata": {
    "collapsed": false
   },
   "outputs": [
    {
     "name": "stdout",
     "output_type": "stream",
     "text": [
      "KR KOREA\n",
      "{'q': 'ray ban vista', 'hl': None, 'geo': 'KR', 'date': '1/2013 47m'}\n",
      "list index out of range on keyword: ray ban vista, resuming...\n",
      "{'q': 'ray ban glasses', 'hl': None, 'geo': 'KR', 'date': '1/2013 47m'}\n",
      "list index out of range on keyword: ray ban glasses, resuming...\n",
      "{'q': 'ray ban eyeglasses', 'hl': None, 'geo': 'KR', 'date': '1/2013 47m'}\n",
      "list index out of range on keyword: ray ban eyeglasses, resuming...\n",
      "{'q': 'ray ban frame', 'hl': None, 'geo': 'KR', 'date': '1/2013 47m'}\n",
      "list index out of range on keyword: ray ban frame, resuming...\n",
      "{'q': 'ray ban glasses frame', 'hl': None, 'geo': 'KR', 'date': '1/2013 47m'}\n",
      "list index out of range on keyword: ray ban glasses frame, resuming...\n"
     ]
    }
   ],
   "source": [
    "brand = 'ray-ban_vista'\n",
    "p1,p2 = 5,10\n",
    "\n",
    "for code in geos[9:]:\n",
    "    if type(code) != list:\n",
    "        isocode,luxcode = code\n",
    "        print(isocode,luxcode)\n",
    "        trend = get_trend(brand,geo=isocode)\n",
    "        dflist.append((trend,luxcode))\n",
    "        time.sleep(randint(p1,p2))   \n",
    "    else:\n",
    "        isocode = [x for (x,y) in code]\n",
    "        luxcode = list(set([y for (x,y) in code]))[0]\n",
    "        print(' '.join(isocode) + ' ' + luxcode)\n",
    "        trend = get_trend(brand,geo=isocode)\n",
    "        dflist.append((trend,luxcode))\n",
    "        time.sleep(randint(p1,p2))"
   ]
  },
  {
   "cell_type": "code",
   "execution_count": 66,
   "metadata": {
    "collapsed": false
   },
   "outputs": [
    {
     "name": "stdout",
     "output_type": "stream",
     "text": [
      "None JAPAN\n",
      "None KOREA\n"
     ]
    }
   ],
   "source": [
    "for df,area in dflist:\n",
    "    if df is None:\n",
    "        print(df,area)"
   ]
  },
  {
   "cell_type": "code",
   "execution_count": 51,
   "metadata": {
    "collapsed": true
   },
   "outputs": [
    {
     "data": {
      "text/html": [
       "<div>\n",
       "<table border=\"1\" class=\"dataframe\">\n",
       "  <thead>\n",
       "    <tr style=\"text-align: right;\">\n",
       "      <th></th>\n",
       "      <th>ray ban glasses</th>\n",
       "      <th>ray ban eyeglasses_PH</th>\n",
       "      <th>mean</th>\n",
       "    </tr>\n",
       "    <tr>\n",
       "      <th>Date</th>\n",
       "      <th></th>\n",
       "      <th></th>\n",
       "      <th></th>\n",
       "    </tr>\n",
       "  </thead>\n",
       "  <tbody>\n",
       "    <tr>\n",
       "      <th>2013-01-01</th>\n",
       "      <td>32</td>\n",
       "      <td>26</td>\n",
       "      <td>29.0</td>\n",
       "    </tr>\n",
       "    <tr>\n",
       "      <th>2013-02-01</th>\n",
       "      <td>57</td>\n",
       "      <td>45</td>\n",
       "      <td>51.0</td>\n",
       "    </tr>\n",
       "    <tr>\n",
       "      <th>2013-03-01</th>\n",
       "      <td>42</td>\n",
       "      <td>64</td>\n",
       "      <td>53.0</td>\n",
       "    </tr>\n",
       "    <tr>\n",
       "      <th>2013-04-01</th>\n",
       "      <td>100</td>\n",
       "      <td>55</td>\n",
       "      <td>77.5</td>\n",
       "    </tr>\n",
       "    <tr>\n",
       "      <th>2013-05-01</th>\n",
       "      <td>93</td>\n",
       "      <td>38</td>\n",
       "      <td>65.5</td>\n",
       "    </tr>\n",
       "    <tr>\n",
       "      <th>2013-06-01</th>\n",
       "      <td>10</td>\n",
       "      <td>25</td>\n",
       "      <td>17.5</td>\n",
       "    </tr>\n",
       "    <tr>\n",
       "      <th>2013-07-01</th>\n",
       "      <td>18</td>\n",
       "      <td>23</td>\n",
       "      <td>20.5</td>\n",
       "    </tr>\n",
       "    <tr>\n",
       "      <th>2013-08-01</th>\n",
       "      <td>28</td>\n",
       "      <td>79</td>\n",
       "      <td>53.5</td>\n",
       "    </tr>\n",
       "    <tr>\n",
       "      <th>2013-09-01</th>\n",
       "      <td>56</td>\n",
       "      <td>46</td>\n",
       "      <td>51.0</td>\n",
       "    </tr>\n",
       "    <tr>\n",
       "      <th>2013-10-01</th>\n",
       "      <td>36</td>\n",
       "      <td>100</td>\n",
       "      <td>68.0</td>\n",
       "    </tr>\n",
       "    <tr>\n",
       "      <th>2013-11-01</th>\n",
       "      <td>68</td>\n",
       "      <td>24</td>\n",
       "      <td>46.0</td>\n",
       "    </tr>\n",
       "    <tr>\n",
       "      <th>2013-12-01</th>\n",
       "      <td>60</td>\n",
       "      <td>24</td>\n",
       "      <td>42.0</td>\n",
       "    </tr>\n",
       "    <tr>\n",
       "      <th>2014-01-01</th>\n",
       "      <td>44</td>\n",
       "      <td>76</td>\n",
       "      <td>60.0</td>\n",
       "    </tr>\n",
       "    <tr>\n",
       "      <th>2014-02-01</th>\n",
       "      <td>29</td>\n",
       "      <td>35</td>\n",
       "      <td>32.0</td>\n",
       "    </tr>\n",
       "    <tr>\n",
       "      <th>2014-03-01</th>\n",
       "      <td>42</td>\n",
       "      <td>62</td>\n",
       "      <td>52.0</td>\n",
       "    </tr>\n",
       "    <tr>\n",
       "      <th>2014-04-01</th>\n",
       "      <td>46</td>\n",
       "      <td>79</td>\n",
       "      <td>62.5</td>\n",
       "    </tr>\n",
       "    <tr>\n",
       "      <th>2014-05-01</th>\n",
       "      <td>90</td>\n",
       "      <td>88</td>\n",
       "      <td>89.0</td>\n",
       "    </tr>\n",
       "    <tr>\n",
       "      <th>2014-06-01</th>\n",
       "      <td>27</td>\n",
       "      <td>22</td>\n",
       "      <td>24.5</td>\n",
       "    </tr>\n",
       "    <tr>\n",
       "      <th>2014-07-01</th>\n",
       "      <td>43</td>\n",
       "      <td>63</td>\n",
       "      <td>53.0</td>\n",
       "    </tr>\n",
       "    <tr>\n",
       "      <th>2014-08-01</th>\n",
       "      <td>49</td>\n",
       "      <td>80</td>\n",
       "      <td>64.5</td>\n",
       "    </tr>\n",
       "    <tr>\n",
       "      <th>2014-09-01</th>\n",
       "      <td>16</td>\n",
       "      <td>40</td>\n",
       "      <td>28.0</td>\n",
       "    </tr>\n",
       "    <tr>\n",
       "      <th>2014-10-01</th>\n",
       "      <td>55</td>\n",
       "      <td>29</td>\n",
       "      <td>42.0</td>\n",
       "    </tr>\n",
       "    <tr>\n",
       "      <th>2014-11-01</th>\n",
       "      <td>74</td>\n",
       "      <td>20</td>\n",
       "      <td>47.0</td>\n",
       "    </tr>\n",
       "    <tr>\n",
       "      <th>2014-12-01</th>\n",
       "      <td>25</td>\n",
       "      <td>30</td>\n",
       "      <td>27.5</td>\n",
       "    </tr>\n",
       "    <tr>\n",
       "      <th>2015-01-01</th>\n",
       "      <td>8</td>\n",
       "      <td>27</td>\n",
       "      <td>17.5</td>\n",
       "    </tr>\n",
       "    <tr>\n",
       "      <th>2015-02-01</th>\n",
       "      <td>8</td>\n",
       "      <td>20</td>\n",
       "      <td>14.0</td>\n",
       "    </tr>\n",
       "    <tr>\n",
       "      <th>2015-03-01</th>\n",
       "      <td>37</td>\n",
       "      <td>81</td>\n",
       "      <td>59.0</td>\n",
       "    </tr>\n",
       "    <tr>\n",
       "      <th>2015-04-01</th>\n",
       "      <td>31</td>\n",
       "      <td>66</td>\n",
       "      <td>48.5</td>\n",
       "    </tr>\n",
       "    <tr>\n",
       "      <th>2015-05-01</th>\n",
       "      <td>44</td>\n",
       "      <td>45</td>\n",
       "      <td>44.5</td>\n",
       "    </tr>\n",
       "    <tr>\n",
       "      <th>2015-06-01</th>\n",
       "      <td>41</td>\n",
       "      <td>42</td>\n",
       "      <td>41.5</td>\n",
       "    </tr>\n",
       "    <tr>\n",
       "      <th>2015-07-01</th>\n",
       "      <td>19</td>\n",
       "      <td>39</td>\n",
       "      <td>29.0</td>\n",
       "    </tr>\n",
       "    <tr>\n",
       "      <th>2015-08-01</th>\n",
       "      <td>40</td>\n",
       "      <td>41</td>\n",
       "      <td>40.5</td>\n",
       "    </tr>\n",
       "    <tr>\n",
       "      <th>2015-09-01</th>\n",
       "      <td>46</td>\n",
       "      <td>40</td>\n",
       "      <td>43.0</td>\n",
       "    </tr>\n",
       "    <tr>\n",
       "      <th>2015-10-01</th>\n",
       "      <td>13</td>\n",
       "      <td>32</td>\n",
       "      <td>22.5</td>\n",
       "    </tr>\n",
       "    <tr>\n",
       "      <th>2015-11-01</th>\n",
       "      <td>54</td>\n",
       "      <td>75</td>\n",
       "      <td>64.5</td>\n",
       "    </tr>\n",
       "    <tr>\n",
       "      <th>2015-12-01</th>\n",
       "      <td>63</td>\n",
       "      <td>43</td>\n",
       "      <td>53.0</td>\n",
       "    </tr>\n",
       "    <tr>\n",
       "      <th>2016-01-01</th>\n",
       "      <td>32</td>\n",
       "      <td>16</td>\n",
       "      <td>24.0</td>\n",
       "    </tr>\n",
       "    <tr>\n",
       "      <th>2016-02-01</th>\n",
       "      <td>45</td>\n",
       "      <td>24</td>\n",
       "      <td>34.5</td>\n",
       "    </tr>\n",
       "    <tr>\n",
       "      <th>2016-03-01</th>\n",
       "      <td>31</td>\n",
       "      <td>38</td>\n",
       "      <td>34.5</td>\n",
       "    </tr>\n",
       "    <tr>\n",
       "      <th>2016-04-01</th>\n",
       "      <td>45</td>\n",
       "      <td>39</td>\n",
       "      <td>42.0</td>\n",
       "    </tr>\n",
       "    <tr>\n",
       "      <th>2016-05-01</th>\n",
       "      <td>33</td>\n",
       "      <td>60</td>\n",
       "      <td>46.5</td>\n",
       "    </tr>\n",
       "    <tr>\n",
       "      <th>2016-06-01</th>\n",
       "      <td>18</td>\n",
       "      <td>23</td>\n",
       "      <td>20.5</td>\n",
       "    </tr>\n",
       "    <tr>\n",
       "      <th>2016-07-01</th>\n",
       "      <td>40</td>\n",
       "      <td>21</td>\n",
       "      <td>30.5</td>\n",
       "    </tr>\n",
       "    <tr>\n",
       "      <th>2016-08-01</th>\n",
       "      <td>22</td>\n",
       "      <td>28</td>\n",
       "      <td>25.0</td>\n",
       "    </tr>\n",
       "    <tr>\n",
       "      <th>2016-09-01</th>\n",
       "      <td>47</td>\n",
       "      <td>29</td>\n",
       "      <td>38.0</td>\n",
       "    </tr>\n",
       "    <tr>\n",
       "      <th>2016-10-01</th>\n",
       "      <td>28</td>\n",
       "      <td>21</td>\n",
       "      <td>24.5</td>\n",
       "    </tr>\n",
       "    <tr>\n",
       "      <th>2016-11-01</th>\n",
       "      <td>46</td>\n",
       "      <td>33</td>\n",
       "      <td>39.5</td>\n",
       "    </tr>\n",
       "  </tbody>\n",
       "</table>\n",
       "</div>"
      ],
      "text/plain": [
       "            ray ban glasses  ray ban eyeglasses_PH  mean\n",
       "Date                                                    \n",
       "2013-01-01               32                     26  29.0\n",
       "2013-02-01               57                     45  51.0\n",
       "2013-03-01               42                     64  53.0\n",
       "2013-04-01              100                     55  77.5\n",
       "2013-05-01               93                     38  65.5\n",
       "2013-06-01               10                     25  17.5\n",
       "2013-07-01               18                     23  20.5\n",
       "2013-08-01               28                     79  53.5\n",
       "2013-09-01               56                     46  51.0\n",
       "2013-10-01               36                    100  68.0\n",
       "2013-11-01               68                     24  46.0\n",
       "2013-12-01               60                     24  42.0\n",
       "2014-01-01               44                     76  60.0\n",
       "2014-02-01               29                     35  32.0\n",
       "2014-03-01               42                     62  52.0\n",
       "2014-04-01               46                     79  62.5\n",
       "2014-05-01               90                     88  89.0\n",
       "2014-06-01               27                     22  24.5\n",
       "2014-07-01               43                     63  53.0\n",
       "2014-08-01               49                     80  64.5\n",
       "2014-09-01               16                     40  28.0\n",
       "2014-10-01               55                     29  42.0\n",
       "2014-11-01               74                     20  47.0\n",
       "2014-12-01               25                     30  27.5\n",
       "2015-01-01                8                     27  17.5\n",
       "2015-02-01                8                     20  14.0\n",
       "2015-03-01               37                     81  59.0\n",
       "2015-04-01               31                     66  48.5\n",
       "2015-05-01               44                     45  44.5\n",
       "2015-06-01               41                     42  41.5\n",
       "2015-07-01               19                     39  29.0\n",
       "2015-08-01               40                     41  40.5\n",
       "2015-09-01               46                     40  43.0\n",
       "2015-10-01               13                     32  22.5\n",
       "2015-11-01               54                     75  64.5\n",
       "2015-12-01               63                     43  53.0\n",
       "2016-01-01               32                     16  24.0\n",
       "2016-02-01               45                     24  34.5\n",
       "2016-03-01               31                     38  34.5\n",
       "2016-04-01               45                     39  42.0\n",
       "2016-05-01               33                     60  46.5\n",
       "2016-06-01               18                     23  20.5\n",
       "2016-07-01               40                     21  30.5\n",
       "2016-08-01               22                     28  25.0\n",
       "2016-09-01               47                     29  38.0\n",
       "2016-10-01               28                     21  24.5\n",
       "2016-11-01               46                     33  39.5"
      ]
     },
     "execution_count": 51,
     "metadata": {},
     "output_type": "execute_result"
    }
   ],
   "source": [
    "dflist[-1][0]"
   ]
  },
  {
   "cell_type": "code",
   "execution_count": 24,
   "metadata": {
    "collapsed": true
   },
   "outputs": [],
   "source": [
    "def save_xls(list_dfs, xls_path):\n",
    "    writer = ExcelWriter(xls_path)\n",
    "    for (df,luxcode) in list_dfs:\n",
    "        try:\n",
    "            df.to_excel(writer,'%s' %(luxcode))\n",
    "        except AttributeError:\n",
    "            pass\n",
    "            \n",
    "    writer.save()"
   ]
  },
  {
   "cell_type": "code",
   "execution_count": 71,
   "metadata": {
    "collapsed": false
   },
   "outputs": [],
   "source": [
    "save_xls(dflist,'data/Regional_Trend_Ray-Ban_vista.xlsx')"
   ]
  },
  {
   "cell_type": "code",
   "execution_count": null,
   "metadata": {
    "collapsed": true
   },
   "outputs": [],
   "source": []
  },
  {
   "cell_type": "code",
   "execution_count": null,
   "metadata": {
    "collapsed": true
   },
   "outputs": [],
   "source": []
  },
  {
   "cell_type": "code",
   "execution_count": null,
   "metadata": {
    "collapsed": true
   },
   "outputs": [],
   "source": []
  },
  {
   "cell_type": "code",
   "execution_count": null,
   "metadata": {
    "collapsed": true
   },
   "outputs": [],
   "source": []
  }
 ],
 "metadata": {
  "kernelspec": {
   "display_name": "Python 3",
   "language": "python",
   "name": "python3"
  },
  "language_info": {
   "codemirror_mode": {
    "name": "ipython",
    "version": 3
   },
   "file_extension": ".py",
   "mimetype": "text/x-python",
   "name": "python",
   "nbconvert_exporter": "python",
   "pygments_lexer": "ipython3",
   "version": "3.5.2"
  }
 },
 "nbformat": 4,
 "nbformat_minor": 0
}
