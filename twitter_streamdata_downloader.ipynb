{
 "cells": [
  {
   "cell_type": "code",
   "execution_count": 9,
   "metadata": {
    "collapsed": true
   },
   "outputs": [],
   "source": [
    "from tweepy.streaming import StreamListener\n",
    "from tweepy import Stream\n",
    "from tweepy import OAuthHandler\n",
    "import time\n",
    "\n",
    "# token, key, secrets here: https://apps.twitter.com/\n",
    "access_token = '742286224229052416-VQn5AHRI94X3BfMFKZQWZ8AJxdecCBG'\n",
    "access_token_secret = 'bPagRzh7rY8A6WzH2EkC516qBEy9LcpoLqks6OwXpBQqT'\n",
    "consumer_key = 'RaRrJTiRGRh524J6f7CtNiShB'\n",
    "consumer_secret = 'CDJfleMBz8vDWCwgpVrWyBs9bDm4o2EWD629qi4gkWub70WQmb'\n",
    "\n",
    "\n",
    "keyword = ['costacoffee'] # including eveything contains 'costacoffee' eg. @CostaCoffee, #costacoffee, costaCoffee...\n",
    "lang = None # Target language eg. 'en'\n",
    "wdir = 'data/' # Output Directory\n",
    "fname = 'twitter_streamdata_' # Outputfile name eg. fname+keyword.jason\n",
    "\n",
    "\n",
    "class MyListener(StreamListener):\n",
    "    \n",
    "    def on_data(self, data):\n",
    "        try:\n",
    "            with open(wdir+fname+'_'.join(keyword)+'.jason','a') as f:\n",
    "                f.write(data)\n",
    "                print(data)\n",
    "                return True\n",
    "        except BaseException as e:\n",
    "            print('Error on_data: %s' %str(e))\n",
    "            time.sleep(5)\n",
    "            return True\n",
    "    \n",
    "    def on_error(self, status):\n",
    "        print('Error: %s' %status)\n",
    "        print('Pausing 15m to avoid Twitter Rate Limits...')\n",
    "        time.sleep(15.1*60)\n",
    "        return True\n",
    "    \n",
    "\n",
    "if __name__ == '__main__':\n",
    "\n",
    "    auth = OAuthHandler(consumer_key, consumer_secret)\n",
    "    auth.set_access_token(access_token,access_token_secret)\n",
    "    twitter_stream = Stream(auth, MyListener())\n",
    "    twitter_stream.filter(track=keyword,languages=lang)"
   ]
  },
  {
   "cell_type": "code",
   "execution_count": null,
   "metadata": {
    "collapsed": true
   },
   "outputs": [],
   "source": []
  }
 ],
 "metadata": {
  "kernelspec": {
   "display_name": "Python 3",
   "language": "python",
   "name": "python3"
  },
  "language_info": {
   "codemirror_mode": {
    "name": "ipython",
    "version": 3
   },
   "file_extension": ".py",
   "mimetype": "text/x-python",
   "name": "python",
   "nbconvert_exporter": "python",
   "pygments_lexer": "ipython3",
   "version": "3.5.2"
  }
 },
 "nbformat": 4,
 "nbformat_minor": 0
}
